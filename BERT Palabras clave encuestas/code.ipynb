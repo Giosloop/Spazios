{
 "cells": [
  {
   "cell_type": "code",
   "execution_count": 7,
   "metadata": {},
   "outputs": [
    {
     "name": "stderr",
     "output_type": "stream",
     "text": [
      "[nltk_data] Downloading package stopwords to\n",
      "[nltk_data]     C:\\Users\\GiovanniMiceli\\AppData\\Roaming\\nltk_data...\n",
      "[nltk_data]   Package stopwords is already up-to-date!\n"
     ]
    }
   ],
   "source": [
    "import pandas as pd \n",
    "\n",
    "df = pd.read_excel(\"dueños.xlsx\")\n",
    "\n",
    "resp_1 = df[\"¿Qué ganás si sos dueño?\"].dropna().tolist()\n",
    "resp_1 = [r.strip().lower() for r in resp_1 if isinstance(r, str) and r.strip() != \"\"]\n",
    "import re\n",
    "import nltk\n",
    "from nltk.corpus import stopwords\n",
    "\n",
    "nltk.download(\"stopwords\")\n",
    "stop_words = set(stopwords.words(\"spanish\"))\n",
    "\n",
    "def limpiar_texto(texto):\n",
    "    texto = texto.lower()\n",
    "    texto = re.sub(r'[^\\w\\s]', '', texto)  # eliminar puntuación\n",
    "    tokens = texto.split()\n",
    "    tokens = [t for t in tokens if t not in stop_words]\n",
    "    return \" \".join(tokens)\n",
    "\n",
    "resp_1 = [limpiar_texto(r) for r in resp_1]\n",
    "\n",
    "import spacy\n",
    "\n",
    "nlp = spacy.load(\"es_core_news_sm\")\n",
    "\n",
    "def lematizar(texto):\n",
    "    doc = nlp(texto)\n",
    "    return \" \".join([token.lemma_ for token in doc if not token.is_stop])\n",
    "\n",
    "resp_1 = [lematizar(r) for r in resp_1]"
   ]
  },
  {
   "cell_type": "code",
   "execution_count": null,
   "metadata": {},
   "outputs": [],
   "source": [
    "from bertopic import BERTopic\n",
    "\n",
    "topic_model = BERTopic(language=\"spanish\",min_topic_size=5)  \n",
    "topics, probs = topic_model.fit_transform(resp_1)"
   ]
  },
  {
   "cell_type": "code",
   "execution_count": 10,
   "metadata": {},
   "outputs": [
    {
     "data": {
      "application/vnd.microsoft.datawrangler.viewer.v0+json": {
       "columns": [
        {
         "name": "index",
         "rawType": "int64",
         "type": "integer"
        },
        {
         "name": "Topic",
         "rawType": "int64",
         "type": "integer"
        },
        {
         "name": "Count",
         "rawType": "int64",
         "type": "integer"
        },
        {
         "name": "Name",
         "rawType": "object",
         "type": "string"
        },
        {
         "name": "Representation",
         "rawType": "object",
         "type": "unknown"
        },
        {
         "name": "Representative_Docs",
         "rawType": "object",
         "type": "unknown"
        }
       ],
       "ref": "07cddfa7-f157-4a28-a6b8-5af7ad259a95",
       "rows": [
        [
         "0",
         "-1",
         "5",
         "-1_extra_especial_entrar_tener",
         "['extra', 'especial', 'entrar', 'tener', 'saca', 'logro', 'genere', 'financiero', 'alquilado', 'aliviar']",
         "['plata extra entrar', 'tener él alquilado genere ingreso', 'aliviar bolsillo logro especial']"
        ],
        [
         "1",
         "0",
         "44",
         "0_lugar_feliz_seriar_espacio",
         "['lugar', 'feliz', 'seriar', 'espacio', 'disfrutar', 'lograr', 'progreso', 'dueño', 'cumplir', 'pensar']",
         "['lugar', 'seriar feliz', 'tranqulidad lugar correr lugar concreto']"
        ],
        [
         "2",
         "1",
         "26",
         "1_alquiler_pagar_mes_aumentar",
         "['alquiler', 'pagar', 'mes', 'aumentar', 'usar', 'ejemplo', 'fiesta', 'permiso', 'preocupacion', 'tendria']",
         "['pagar alquiler', 'pagar alquiler', 'pagar alquiler']"
        ],
        [
         "3",
         "2",
         "26",
         "2_tranquilidad_tranquilo_trabajo_chico",
         "['tranquilidad', 'tranquilo', 'trabajo', 'chico', 'molestar', 'quedar', 'ruido', 'estario', 'seguro', 'techo']",
         "['tranquilidad', 'tranquilidad', 'tranquilidad']"
        ],
        [
         "4",
         "3",
         "14",
         "3_seguridad_independencia_paz_privacidad",
         "['seguridad', 'independencia', 'paz', 'privacidad', 'alquilaria', 'necesidad', 'basico', 'autonomio', 'libertad', 'tendrio']",
         "['seguridad', 'tranquilidad seguridad', 'paz seguridad']"
        ],
        [
         "5",
         "4",
         "13",
         "4_comodidad_bienestar_herenciar_cómodo",
         "['comodidad', 'bienestar', 'herenciar', 'cómodo', 'familio', 'futuro', 'hijo', 'estable', 'cumplir', 'sueño']",
         "['comodidad', 'comodidad', 'comodidad']"
        ],
        [
         "6",
         "5",
         "12",
         "5_ahorrar_pagar_mes_arreglo",
         "['ahorrar', 'pagar', 'mes', 'arreglo', 'tén', 'traer', 'expensa', 'tirar', 'invertir', 'gasto']",
         "['ahorrar', 'ahorrar yo gasto mes', 'pagar ahorrar traer contra arreglo tén pagar vo']"
        ],
        [
         "7",
         "6",
         "11",
         "6_alquilar_incomoda_poner_pod",
         "['alquilar', 'incomoda', 'poner', 'pod', 'pón', 'tranquilar', 'incomodo', 'independientevivir', 'estaria', 'alquila']",
         "['alquilar', 'alquilar', 'alquilar']"
        ],
        [
         "8",
         "7",
         "11",
         "7_alquiler_ahorrar_tranquila_buscar",
         "['alquiler', 'ahorrar', 'tranquila', 'buscar', 'alquilervivir', 'habitacional', 'pago', 'pagario', 'impuesto', 'quito']",
         "['ahorrar alquiler', 'ahorrar alquiler', 'seguir buscar alquilervivir tranquila']"
        ],
        [
         "9",
         "8",
         "10",
         "8_estabilidad_alquilar_dejar_tranquilidad",
         "['estabilidad', 'alquilar', 'dejar', 'tranquilidad', '', '', '', '', '', '']",
         "['estabilidad', 'estabilidad', 'estabilidad']"
        ],
        [
         "10",
         "9",
         "10",
         "9_economico_economia_estabilidad_brindar",
         "['economico', 'economia', 'estabilidad', 'brindar', 'nivel', 'importante', 'estudio', 'destino', 'sacar', 'pasivo']",
         "['estable economia seguro brindar él seguridad hijo dar él destino dinero estudio', 'tranquilidad economico', 'estabilidad economico']"
        ],
        [
         "11",
         "10",
         "8",
         "10_vivir_tranquilo_barrio_garantizado",
         "['vivir', 'tranquilo', 'barrio', 'garantizado', 'alquile', 'villa', 'nieto', 'nena', 'vivo', 'porrque']",
         "['lugar estable vivir alquile', 'vivir tranquilo propiedad', 'vivir tranquilo']"
        ],
        [
         "12",
         "11",
         "7",
         "11_él_dejar_hijo_familia",
         "['él', 'dejar', 'hijo', 'familia', 'casa', '', '', '', '', '']",
         "['dejar él hijo', 'dejar él hijo', 'dejar él hijo']"
        ]
       ],
       "shape": {
        "columns": 5,
        "rows": 13
       }
      },
      "text/html": [
       "<div>\n",
       "<style scoped>\n",
       "    .dataframe tbody tr th:only-of-type {\n",
       "        vertical-align: middle;\n",
       "    }\n",
       "\n",
       "    .dataframe tbody tr th {\n",
       "        vertical-align: top;\n",
       "    }\n",
       "\n",
       "    .dataframe thead th {\n",
       "        text-align: right;\n",
       "    }\n",
       "</style>\n",
       "<table border=\"1\" class=\"dataframe\">\n",
       "  <thead>\n",
       "    <tr style=\"text-align: right;\">\n",
       "      <th></th>\n",
       "      <th>Topic</th>\n",
       "      <th>Count</th>\n",
       "      <th>Name</th>\n",
       "      <th>Representation</th>\n",
       "      <th>Representative_Docs</th>\n",
       "    </tr>\n",
       "  </thead>\n",
       "  <tbody>\n",
       "    <tr>\n",
       "      <th>0</th>\n",
       "      <td>-1</td>\n",
       "      <td>5</td>\n",
       "      <td>-1_extra_especial_entrar_tener</td>\n",
       "      <td>[extra, especial, entrar, tener, saca, logro, ...</td>\n",
       "      <td>[plata extra entrar, tener él alquilado genere...</td>\n",
       "    </tr>\n",
       "    <tr>\n",
       "      <th>1</th>\n",
       "      <td>0</td>\n",
       "      <td>44</td>\n",
       "      <td>0_lugar_feliz_seriar_espacio</td>\n",
       "      <td>[lugar, feliz, seriar, espacio, disfrutar, log...</td>\n",
       "      <td>[lugar, seriar feliz, tranqulidad lugar correr...</td>\n",
       "    </tr>\n",
       "    <tr>\n",
       "      <th>2</th>\n",
       "      <td>1</td>\n",
       "      <td>26</td>\n",
       "      <td>1_alquiler_pagar_mes_aumentar</td>\n",
       "      <td>[alquiler, pagar, mes, aumentar, usar, ejemplo...</td>\n",
       "      <td>[pagar alquiler, pagar alquiler, pagar alquiler]</td>\n",
       "    </tr>\n",
       "    <tr>\n",
       "      <th>3</th>\n",
       "      <td>2</td>\n",
       "      <td>26</td>\n",
       "      <td>2_tranquilidad_tranquilo_trabajo_chico</td>\n",
       "      <td>[tranquilidad, tranquilo, trabajo, chico, mole...</td>\n",
       "      <td>[tranquilidad, tranquilidad, tranquilidad]</td>\n",
       "    </tr>\n",
       "    <tr>\n",
       "      <th>4</th>\n",
       "      <td>3</td>\n",
       "      <td>14</td>\n",
       "      <td>3_seguridad_independencia_paz_privacidad</td>\n",
       "      <td>[seguridad, independencia, paz, privacidad, al...</td>\n",
       "      <td>[seguridad, tranquilidad seguridad, paz seguri...</td>\n",
       "    </tr>\n",
       "    <tr>\n",
       "      <th>5</th>\n",
       "      <td>4</td>\n",
       "      <td>13</td>\n",
       "      <td>4_comodidad_bienestar_herenciar_cómodo</td>\n",
       "      <td>[comodidad, bienestar, herenciar, cómodo, fami...</td>\n",
       "      <td>[comodidad, comodidad, comodidad]</td>\n",
       "    </tr>\n",
       "    <tr>\n",
       "      <th>6</th>\n",
       "      <td>5</td>\n",
       "      <td>12</td>\n",
       "      <td>5_ahorrar_pagar_mes_arreglo</td>\n",
       "      <td>[ahorrar, pagar, mes, arreglo, tén, traer, exp...</td>\n",
       "      <td>[ahorrar, ahorrar yo gasto mes, pagar ahorrar ...</td>\n",
       "    </tr>\n",
       "    <tr>\n",
       "      <th>7</th>\n",
       "      <td>6</td>\n",
       "      <td>11</td>\n",
       "      <td>6_alquilar_incomoda_poner_pod</td>\n",
       "      <td>[alquilar, incomoda, poner, pod, pón, tranquil...</td>\n",
       "      <td>[alquilar, alquilar, alquilar]</td>\n",
       "    </tr>\n",
       "    <tr>\n",
       "      <th>8</th>\n",
       "      <td>7</td>\n",
       "      <td>11</td>\n",
       "      <td>7_alquiler_ahorrar_tranquila_buscar</td>\n",
       "      <td>[alquiler, ahorrar, tranquila, buscar, alquile...</td>\n",
       "      <td>[ahorrar alquiler, ahorrar alquiler, seguir bu...</td>\n",
       "    </tr>\n",
       "    <tr>\n",
       "      <th>9</th>\n",
       "      <td>8</td>\n",
       "      <td>10</td>\n",
       "      <td>8_estabilidad_alquilar_dejar_tranquilidad</td>\n",
       "      <td>[estabilidad, alquilar, dejar, tranquilidad, ,...</td>\n",
       "      <td>[estabilidad, estabilidad, estabilidad]</td>\n",
       "    </tr>\n",
       "    <tr>\n",
       "      <th>10</th>\n",
       "      <td>9</td>\n",
       "      <td>10</td>\n",
       "      <td>9_economico_economia_estabilidad_brindar</td>\n",
       "      <td>[economico, economia, estabilidad, brindar, ni...</td>\n",
       "      <td>[estable economia seguro brindar él seguridad ...</td>\n",
       "    </tr>\n",
       "    <tr>\n",
       "      <th>11</th>\n",
       "      <td>10</td>\n",
       "      <td>8</td>\n",
       "      <td>10_vivir_tranquilo_barrio_garantizado</td>\n",
       "      <td>[vivir, tranquilo, barrio, garantizado, alquil...</td>\n",
       "      <td>[lugar estable vivir alquile, vivir tranquilo ...</td>\n",
       "    </tr>\n",
       "    <tr>\n",
       "      <th>12</th>\n",
       "      <td>11</td>\n",
       "      <td>7</td>\n",
       "      <td>11_él_dejar_hijo_familia</td>\n",
       "      <td>[él, dejar, hijo, familia, casa, , , , , ]</td>\n",
       "      <td>[dejar él hijo, dejar él hijo, dejar él hijo]</td>\n",
       "    </tr>\n",
       "  </tbody>\n",
       "</table>\n",
       "</div>"
      ],
      "text/plain": [
       "    Topic  Count                                       Name  \\\n",
       "0      -1      5             -1_extra_especial_entrar_tener   \n",
       "1       0     44               0_lugar_feliz_seriar_espacio   \n",
       "2       1     26              1_alquiler_pagar_mes_aumentar   \n",
       "3       2     26     2_tranquilidad_tranquilo_trabajo_chico   \n",
       "4       3     14   3_seguridad_independencia_paz_privacidad   \n",
       "5       4     13     4_comodidad_bienestar_herenciar_cómodo   \n",
       "6       5     12                5_ahorrar_pagar_mes_arreglo   \n",
       "7       6     11              6_alquilar_incomoda_poner_pod   \n",
       "8       7     11        7_alquiler_ahorrar_tranquila_buscar   \n",
       "9       8     10  8_estabilidad_alquilar_dejar_tranquilidad   \n",
       "10      9     10   9_economico_economia_estabilidad_brindar   \n",
       "11     10      8      10_vivir_tranquilo_barrio_garantizado   \n",
       "12     11      7                   11_él_dejar_hijo_familia   \n",
       "\n",
       "                                       Representation  \\\n",
       "0   [extra, especial, entrar, tener, saca, logro, ...   \n",
       "1   [lugar, feliz, seriar, espacio, disfrutar, log...   \n",
       "2   [alquiler, pagar, mes, aumentar, usar, ejemplo...   \n",
       "3   [tranquilidad, tranquilo, trabajo, chico, mole...   \n",
       "4   [seguridad, independencia, paz, privacidad, al...   \n",
       "5   [comodidad, bienestar, herenciar, cómodo, fami...   \n",
       "6   [ahorrar, pagar, mes, arreglo, tén, traer, exp...   \n",
       "7   [alquilar, incomoda, poner, pod, pón, tranquil...   \n",
       "8   [alquiler, ahorrar, tranquila, buscar, alquile...   \n",
       "9   [estabilidad, alquilar, dejar, tranquilidad, ,...   \n",
       "10  [economico, economia, estabilidad, brindar, ni...   \n",
       "11  [vivir, tranquilo, barrio, garantizado, alquil...   \n",
       "12         [él, dejar, hijo, familia, casa, , , , , ]   \n",
       "\n",
       "                                  Representative_Docs  \n",
       "0   [plata extra entrar, tener él alquilado genere...  \n",
       "1   [lugar, seriar feliz, tranqulidad lugar correr...  \n",
       "2    [pagar alquiler, pagar alquiler, pagar alquiler]  \n",
       "3          [tranquilidad, tranquilidad, tranquilidad]  \n",
       "4   [seguridad, tranquilidad seguridad, paz seguri...  \n",
       "5                   [comodidad, comodidad, comodidad]  \n",
       "6   [ahorrar, ahorrar yo gasto mes, pagar ahorrar ...  \n",
       "7                      [alquilar, alquilar, alquilar]  \n",
       "8   [ahorrar alquiler, ahorrar alquiler, seguir bu...  \n",
       "9             [estabilidad, estabilidad, estabilidad]  \n",
       "10  [estable economia seguro brindar él seguridad ...  \n",
       "11  [lugar estable vivir alquile, vivir tranquilo ...  \n",
       "12      [dejar él hijo, dejar él hijo, dejar él hijo]  "
      ]
     },
     "execution_count": 10,
     "metadata": {},
     "output_type": "execute_result"
    }
   ],
   "source": [
    "topic_model.get_topic_info()"
   ]
  },
  {
   "cell_type": "code",
   "execution_count": 11,
   "metadata": {},
   "outputs": [
    {
     "name": "stdout",
     "output_type": "stream",
     "text": [
      "palabras clave del tema 0: [('lugar', np.float64(0.11047886985306216)), ('feliz', np.float64(0.0942114608991043)), ('seriar', np.float64(0.07225929394740412)), ('espacio', np.float64(0.07225929394740412)), ('disfrutar', np.float64(0.07225929394740412)), ('lograr', np.float64(0.07225929394740412)), ('progreso', np.float64(0.07225929394740412)), ('dueño', np.float64(0.06280764059940287)), ('cumplir', np.float64(0.06280764059940287)), ('pensar', np.float64(0.06280764059940287))]\n"
     ]
    }
   ],
   "source": [
    "df_resultado = pd.DataFrame({\n",
    "    \"respuesta_1\": resp_1,\n",
    "    \"tema\": topics\n",
    "})\n",
    "\n",
    "tema_0 = topic_model.get_topic(0)\n",
    "print(\"palabras clave del tema 0:\",tema_0)\n"
   ]
  }
 ],
 "metadata": {
  "kernelspec": {
   "display_name": "Python 3",
   "language": "python",
   "name": "python3"
  },
  "language_info": {
   "codemirror_mode": {
    "name": "ipython",
    "version": 3
   },
   "file_extension": ".py",
   "mimetype": "text/x-python",
   "name": "python",
   "nbconvert_exporter": "python",
   "pygments_lexer": "ipython3",
   "version": "3.11.9"
  }
 },
 "nbformat": 4,
 "nbformat_minor": 2
}
